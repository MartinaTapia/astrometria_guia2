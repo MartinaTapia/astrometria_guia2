{
 "cells": [
  {
   "cell_type": "markdown",
   "metadata": {},
   "source": [
    "# UNIVERSIDAD NACIONAL DE CÓRDOBA#\n",
    "## Fa.M.A.F – Observatorio Astronómico ##\n",
    "### Licenciatura en Astronomía ###\n",
    "### Tapia Martina ###\n",
    "### Astrometría 2020 ###\n",
    "## Práctico N° 2##"
   ]
  },
  {
   "cell_type": "markdown",
   "metadata": {},
   "source": [
    "## Actividad 3 ##\n",
    "### Experimento de Buffon ###\n",
    "\n",
    "Este experimento fue planteado en el siglo XVIII por Georges-Louis Leclerc, conde de Buffon, y se lo conoce como el problema de la \"aguja de Buffon”. El mismo, consistió en dejar caer una aguja sobre una hoja rayada y anotar las veces que la aguja cruza alguna de las rayas. Después de lanzar la aguja muchísimas veces comprobó que su experimento estaba íntimamente relacionado con el número $ \\pi $ . Para obtener un número muy parecido a  $ \\pi $ , se debe dejar caer la aguja muchísimas veces sobre la hoja, multiplicar esta cantidad por dos y dividir el resultado entre el número de veces que la aguja cruzó alguna de las rayas.\n",
    "\n",
    "Suponga que tiene una mesa con rayas paralelas y equiespaciadas, separadas por una distancia t. Se lanza una aguja sobre la mesa, que cae en una ubicación aleatoria (uniforme) sobre la mesa, a una distancia $x$ de la raya más cercana (medida desde el centro de la aguja) y con una orientación también aleatoria θ dada por el ángulo agudo que forma con la dirección de las rayas.\n",
    "El objetivo de esta actividad es:\n",
    "\n",
    "- Escribir la función densidad de probabilidad de que la aguja caiga con parámetros (x, θ).\n",
    "- Suponiendo que l < t, determinar cuál es la probabilidad de que la aguja toque una raya.\n",
    "- Luego, como este procedimiento se puede usar para estimar el número π. Para ello escribirá un programa que simule arrojar una aguja y se determinará si cruza alguna raya de un patrón dado de rayas paralelas. Luego se utilizará la probabilidad clásica para estimar π a partir de muchas realizaciones del experimento. "
   ]
  },
  {
   "cell_type": "markdown",
   "metadata": {},
   "source": [
    "### Función densidad de probabilidad ###\n",
    "\n",
    "Como se mencionó, $ x $ la distancia entre el centro de la aguja y la línea más cercana, $ x \\in [0,t/2]$, y sea $ \\theta $ el ángulo entre la aguja y las líneas, $ \\theta \\in [0,\\pi /2] $. Además se considera que $  t\\geq \\ell $, es decir que las agujas miden menos que la distancia entre las líneas.\n",
    "\n",
    "La variable aleatoria $x$ se distribuye uniformemente entre el 0 y $ \\frac {t}{2}$, por lo que su función de densidad de  probabilidad es:\n",
    "\n",
    "$$ f_{X}(x) = \\frac {2}{t} dx $$\n",
    "\n",
    "Por su parte, la variable aleatoria $\\theta $, al igual que $x$ se distribuye uniformemente entre 0 y $ \\pi /2 $, por lo que su función de densidad de probabilidad es:\n",
    "\n",
    "$$ f_{\\Theta }(\\theta) = \\frac {2}{\\pi } d\\theta $$\n",
    "\n",
    "Al $x$ y $ \\theta $ ser variables aleatorias independientes, la función conjunta de densidad es simplemente el producto de ambas:\n",
    "\n",
    "$$ f_{X,\\Theta }(x,\\theta ) = \\frac {4}{t\\pi } dx d\\theta $$\n",
    "\n",
    "Por otra parte, la condición para que una aguja cruce una línea es:\n",
    "\n",
    "$$ x\\leq {\\frac {\\ell }{2}}\\,\\sin \\theta $$\n",
    "\n",
    "Luego, se busca la función de probabilidad de que la aguja cruce una línea, la cual se obtiene integrando para ambas variables la función de densidad, lo cual es:\n",
    "\n",
    "$$ \\int _{\\theta =0}^{\\frac {\\pi }{2}}\\int _{x=0}^{(\\ell /2)\\sin \\theta }{\\frac {4}{t\\pi }}\\,dx\\,d\\theta = \\int _{\\theta =0}^{\\frac {\\pi }{2}}{\\frac {4}{t\\pi }} \\frac {\\ell}{2 } \\sin \\theta d\\theta  = {\\frac {2\\ell }{t\\pi }} $$\n",
    "\n"
   ]
  },
  {
   "cell_type": "markdown",
   "metadata": {},
   "source": [
    "### Estimación del número $\\pi$ ###\n",
    "Se aplicará este procedimiento para estimar el número π. Para ello escribirá un programa que simule arrojar una aguja y se determinará si cruza alguna raya de un patrón dado de rayas paralelas. Luego se utilizará la probabilidad clásica para estimar π a partir de muchas realizaciones del experimento. "
   ]
  },
  {
   "cell_type": "code",
   "execution_count": 1,
   "metadata": {},
   "outputs": [],
   "source": [
    "#Primero se importan las librerías necesarias para trabajar\n",
    "import numpy as np\n",
    "import matplotlib.pyplot as plt\n",
    "import random\n",
    "import math\n",
    "import seaborn as sns          \n",
    "sns.set()         \n",
    "from scipy.stats import poisson\n",
    "import statistics"
   ]
  },
  {
   "cell_type": "code",
   "execution_count": 2,
   "metadata": {},
   "outputs": [],
   "source": [
    "def calculopi(l = 1, t = 1, n = 1000):          #l longitud de la aguja, t distancia entre líneas, n cantidad de agujas \n",
    "    \n",
    "    a = 0                                       # Se define el contador de agujas que cruzan la línea\n",
    "    for i in range(n):\n",
    "        \n",
    "        x = (t/2)*random.random()               # x distancia de la aguja a la raya mas cercana\n",
    "        tita = (math.pi) * random.random()      # tita es el ángulo que forma la aguja con la dirección de las rayas\n",
    "        c = (l/2) * math.sin(tita)              # condición de cruce de línea\n",
    "        \n",
    "        if x <= c:\n",
    "            a = a + 1\n",
    "             \n",
    "    \n",
    "    pi = (2* n * l) / (a * t)    \n",
    "    return(pi)\n"
   ]
  },
  {
   "cell_type": "code",
   "execution_count": 3,
   "metadata": {},
   "outputs": [
    {
     "data": {
      "text/plain": [
       "3.0627871362940278"
      ]
     },
     "execution_count": 3,
     "metadata": {},
     "output_type": "execute_result"
    }
   ],
   "source": [
    "# Se ejecuta la función creada para verificar el valor de pi encontrado\n",
    "\n",
    "calculopi()\n"
   ]
  },
  {
   "cell_type": "code",
   "execution_count": 4,
   "metadata": {},
   "outputs": [
    {
     "data": {
      "text/plain": [
       "3.141164234829669"
      ]
     },
     "execution_count": 4,
     "metadata": {},
     "output_type": "execute_result"
    }
   ],
   "source": [
    "# Ahora se verifica que si se aumenta n, el valor se aproxima mejor\n",
    "calculopi(n = 10000000)"
   ]
  },
  {
   "cell_type": "markdown",
   "metadata": {},
   "source": [
    "Finalmente, se pudo verificar, con la simulación del experimento de Buffon el valor de pi. Además se vió que a mientras más veces se repita el experimento mejor se realiza la aproximación del valor de pi. "
   ]
  },
  {
   "cell_type": "code",
   "execution_count": null,
   "metadata": {},
   "outputs": [],
   "source": []
  }
 ],
 "metadata": {
  "kernelspec": {
   "display_name": "Python 3",
   "language": "python",
   "name": "python3"
  },
  "language_info": {
   "codemirror_mode": {
    "name": "ipython",
    "version": 3
   },
   "file_extension": ".py",
   "mimetype": "text/x-python",
   "name": "python",
   "nbconvert_exporter": "python",
   "pygments_lexer": "ipython3",
   "version": "3.8.3"
  }
 },
 "nbformat": 4,
 "nbformat_minor": 4
}
