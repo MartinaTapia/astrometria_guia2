{
 "cells": [
  {
   "cell_type": "markdown",
   "metadata": {},
   "source": [
    "# UNIVERSIDAD NACIONAL DE CÓRDOBA#\n",
    "## Fa.M.A.F – Observatorio Astronómico ##\n",
    "### Licenciatura en Astronomía ###\n",
    "### Tapia Martina ###\n",
    "### Astrometría 2020 ###\n",
    "## Práctico N° 2##"
   ]
  },
  {
   "cell_type": "markdown",
   "metadata": {},
   "source": [
    "## Actividad 5 ##\n",
    "\n",
    "### Introducción  ###\n",
    "\n",
    "\n",
    "Siguiendo con el método de Prueba- Hipótesis, en la estadística inferencial aparecen varios problemas que es muy útil saber resolver. Uno de estos problemas es poder distinguir cuando dos distribuciones surgen de la misma función distribución o provienen de funciones de distribución diferentes. Determinar que dos distribuciones son diferentes o mostrar que ellas son consistentes es una tarea que surge constantemente en muchas áreas de la investigación. Este problema además puede subdividirse en dos casos: cuando los datos provienen de variables discretas o de variables continuas. A continación, se describirá el método **Chi-cuadrado** para tratar datos bineados de variable discreta. Notar que, para analizar datos provenientes de variables aleatorias continuas como función de una sola variable se usa el método de Kolmogorov-Smirnov. \n",
    "\n",
    "El **objetivo** de ésta actividad es diseñar, impementar y verificar una función que calcule el test de **chi-cuadrado** para comparar un histograma con un modelo dado por una distribución *Binomial*, f(x) ∼ B(n = 10, p = 0.4). Para ello, se realizarán varios pasos que serán detallados luego. \n",
    "\n",
    "\n",
    "### Test de chi–cuadrado ###\n",
    "\n",
    "El método Chi-cuadrado, usualmente denominado \"de Pearson\" o de \"asociación”, es considerado como una prueba no paramétrica que mide la discrepancia entre una distribución observada y otra teórica, indicando en qué medida las diferencias existentes entre ambas, de haberlas, se deben al azar en la Prueba- Hipótesis. En particular, el método de Chi-cuadrado compara histogramas con distribuciones de probabilidad discretas. El método también funciona para funciones de distribución discretizadas, donde las probabilidades se obtienen integrando las funciones distribución sobre los diferentes bines. El método tiene dos variantes:  \n",
    "\n",
    "- Para comparar un histograma con una función de probabilidad acumulada discretizada. La hipótesis nula $H_{0}$ es la muestra sigue la distribución de probabilidades dada.\n",
    "- Para comparar dos histogramas obtenidos de dos muestras diferentes. La hipótesis nula $H_{0}$ es las dos muestras siguen la misma distribución.  \n",
    "\n",
    "En el caso de la actividad a realizar, se prenseta el primer caso. Luego, el estadístico de prueba chi- cuadrado es:  \n",
    "\n",
    "$$ \\chi^2 = \\sum_{i=1} \\frac{(frecuencia_{observada,i}-frecuancia_{teórica,i})^2}{frecuencia_{teorica}} $$    \n",
    "\n",
    "Notar que, cuanto mayor sea el valor de $ \\chi^2$, menos verosímil es que la hipótesis sea correcta. De la misma forma, cuanto más se aproxima a cero el valor de chi-cuadrado, más ajustadas están ambas distribuciones.  \n",
    "Los grados de libertad $\\nu$ vienen dados por $ \\nu = N − 1 $ donde N es el número de bines.  \n",
    "\n",
    "Las tablas de la distribución acumulada de la función distribución relacionada con este estadístico es la que se usa para hacer las estimas necesarias en el método chi-cuadrado. En consecuencia, se acepta $H_{0}$ cuando $ \\chi^2 < \\chi^2_{(1−\\alpha,\\nu)}$ En caso contrario se rechaza.  \n",
    "Observar que $\\alpha$  representa el nivel de significación estadística elegido.  \n",
    " "
   ]
  },
  {
   "cell_type": "markdown",
   "metadata": {},
   "source": [
    "- Lo primero que se realizará es simular 100 observaciones de la variable aleatoria (V.A). binomial y se calcularán las frecuencias de cada valor."
   ]
  },
  {
   "cell_type": "code",
   "execution_count": 1,
   "metadata": {},
   "outputs": [],
   "source": [
    "#Primero se importan las librerías necesarias para trabajar\n",
    "import numpy as np\n",
    "import matplotlib.pyplot as plt\n",
    "import random\n",
    "import math\n",
    "import seaborn as sns          \n",
    "sns.set()         \n",
    "import scipy.stats as st\n",
    "from jupyterthemes import jtplot\n",
    "jtplot.style(theme='monokai', context='notebook', ticks=True, grid=True)"
   ]
  },
  {
   "cell_type": "code",
   "execution_count": 2,
   "metadata": {},
   "outputs": [],
   "source": [
    "#Hago un experimento de Bernoulli\n",
    "\n",
    "def sorteo(n,p):\n",
    "    e =0\n",
    "    E = []\n",
    "    for i in range(n):\n",
    "        x = random.random()\n",
    "        if 0 < x < p:\n",
    "            e = e + 1\n",
    "            E.append(e)\n",
    "        elif p < x < 1:\n",
    "            None\n",
    "    return(len(E))\n",
    "\n",
    "    "
   ]
  },
  {
   "cell_type": "code",
   "execution_count": 3,
   "metadata": {},
   "outputs": [
    {
     "data": {
      "text/plain": [
       "38"
      ]
     },
     "execution_count": 3,
     "metadata": {},
     "output_type": "execute_result"
    }
   ],
   "source": [
    "#Se verifica que la función realizada funcione\n",
    "sorteo(100,0.4)"
   ]
  },
  {
   "cell_type": "code",
   "execution_count": 4,
   "metadata": {},
   "outputs": [],
   "source": [
    "#Se define una función que realiza el n_obs sorteos de una v.a Binomial\n",
    "\n",
    "def Sorteo_Binomial(n_obs, n, p):\n",
    "    S = []\n",
    "    for j in range(n_obs):\n",
    "        sb = sorteo(n,p)\n",
    "        S.append(sb)\n",
    "        \n",
    "    return(S)\n",
    "    "
   ]
  },
  {
   "cell_type": "code",
   "execution_count": 5,
   "metadata": {},
   "outputs": [],
   "source": [
    "#Sorteo_Binomial(100,10,0.4)"
   ]
  },
  {
   "cell_type": "code",
   "execution_count": 6,
   "metadata": {},
   "outputs": [
    {
     "data": {
      "image/png": "[encoded data removed]",
      "text/plain": [
       "<Figure size 576x504 with 1 Axes>"
      ]
     },
     "metadata": {},
     "output_type": "display_data"
    }
   ],
   "source": [
    "#Luego, se observan las frecuencias a través de un Histograma\n",
    "\n",
    "h =plt.hist(Sorteo_Binomial(100,10,0.4), bins=np.arange(0.0, 10.2, 1), color='yellow')\n",
    "\n",
    "plt.title('Histograma de 100 V.A. Binomial')\n",
    "plt.xlabel('x')\n",
    "plt.ylabel('Frecuencias')\n",
    "plt.show()"
   ]
  },
  {
   "cell_type": "code",
   "execution_count": 7,
   "metadata": {},
   "outputs": [
    {
     "name": "stdout",
     "output_type": "stream",
     "text": [
      "Las frecuencias de cada x son: [ 1.  4. 11. 27. 23. 19. 13.  1.  1.  0.]\n"
     ]
    }
   ],
   "source": [
    "fre = h[0]\n",
    "print('Las frecuencias de cada x son:', fre)"
   ]
  },
  {
   "cell_type": "markdown",
   "metadata": {},
   "source": [
    "- Lo que se realizará a continuación es calcular el estadístico $\\chi^2$ a partir del modelo y de los datos simulados.  \n",
    "Antes del estadístico, se construye la distribución de probabilidad Binomial teórica usando la función 'st.binom.pmf'. "
   ]
  },
  {
   "cell_type": "code",
   "execution_count": 8,
   "metadata": {},
   "outputs": [],
   "source": [
    "f_binomial_teo = st.binom.pmf(k=np.arange(10), n=10, p=0.4)  "
   ]
  },
  {
   "cell_type": "markdown",
   "metadata": {},
   "source": [
    "Notar que las frecuencias de la distribución Binomial teórica son relativas y para comparar con la distribución empírica creada anteriormente, se necesita que ambas distribuciones sean graficadas con las mismas frecuencias. Se multiplicarán por 100 las frecuencias relativas para así obtener frecuencias absolutas."
   ]
  },
  {
   "cell_type": "code",
   "execution_count": 9,
   "metadata": {},
   "outputs": [],
   "source": [
    "fb = f_binomial_teo * 100"
   ]
  },
  {
   "cell_type": "code",
   "execution_count": 10,
   "metadata": {},
   "outputs": [
    {
     "data": {
      "image/png": "[encoded data removed]",
      "text/plain": [
       "<Figure size 576x504 with 1 Axes>"
      ]
     },
     "metadata": {},
     "output_type": "display_data"
    }
   ],
   "source": [
    "#Se grafican ambas distribuciones \n",
    "\n",
    "plt.bar(np.arange(10),fb,  color='pink', alpha=0.4, label='Distribución Binomial teórica')\n",
    "\n",
    "plt.hist(Sorteo_Binomial(100,10,0.4), bins=np.arange(0.0, 10.2, 1),color='green', label='Distribución Binomial empírica', alpha=0.6)\n",
    "plt.title('Distrubuciones Binomiales')\n",
    "plt.xlabel('x')\n",
    "plt.ylabel('Frecuencias')\n",
    "plt.legend(loc='upper right')\n",
    "plt.show()"
   ]
  },
  {
   "cell_type": "markdown",
   "metadata": {},
   "source": [
    "- Luego de tener las distribuciones a comparar, se calcula el estimador $\\chi^2$ usando la fórmula presentada en la introducción. En la expresión del estimador, $f_{observada,i}$ indica la frecuencia empírica observada, calculada del primer histograma y $f_{teórico,i}$ indica la frecuencia de la distribución teórica. Notar que en ambos casos se trabaja con las frecuencias relativas. Luego, se define una función que calcule el estimador."
   ]
  },
  {
   "cell_type": "code",
   "execution_count": 11,
   "metadata": {},
   "outputs": [],
   "source": [
    "fobs = fre / 100\n",
    "fteo = f_binomial_teo"
   ]
  },
  {
   "cell_type": "code",
   "execution_count": 12,
   "metadata": {},
   "outputs": [],
   "source": [
    "def chi_cuadrado():\n",
    "    chi=0\n",
    "    chi1 = []\n",
    "    for i in range(len(fobs)):\n",
    "        a = (fobs[i] - fteo[i]) **2\n",
    "        b = fteo[i]\n",
    "        chi = a / b\n",
    "        chi1.append(chi)\n",
    "    chi2 = sum(chi1)\n",
    "    return(chi2)"
   ]
  },
  {
   "cell_type": "code",
   "execution_count": 13,
   "metadata": {},
   "outputs": [
    {
     "name": "stdout",
     "output_type": "stream",
     "text": [
      "El valor del estimador es: 0.04945393903438376\n"
     ]
    }
   ],
   "source": [
    "chi = chi_cuadrado()\n",
    "print('El valor del estimador es:', chi)"
   ]
  },
  {
   "cell_type": "markdown",
   "metadata": {},
   "source": [
    "- Una vez obtenido el estimador $\\chi^2$ se realizará una prueba de hipótesis completa para decidir si los datos están en acuerdo con el modelo."
   ]
  },
  {
   "cell_type": "markdown",
   "metadata": {},
   "source": [
    "Primero se plantean las hipótesis;\n",
    "\n",
    "$ H_{0}: $ La muestra de la distribución empírica creada sigue la distribución Binomial teórica.  \n",
    "\n",
    "$ H_{a}: $ La muestra de la distribución empírica creada **no** sigue la distribución Binomial teórica.  \n",
    "\n",
    "Luego, se determina el Nivel de significación o confianza para realizar la prueba: $\\alpha =$ 0,05  \n",
    "\n",
    "- Zona de aceptación: son todos los valores de $\\chi^2 < \\chi_c $\n",
    "- Zona de rechazo: son todos los valores de $\\chi^2 > \\chi_c $\n"
   ]
  },
  {
   "cell_type": "markdown",
   "metadata": {},
   "source": [
    "Se calculan los grados de libertad:\n",
    "\n",
    "$$gl= Num\\ de\\ variables (x) - Num\\ de\\ restricciones$$\n",
    "donde número de x es: 0,1,2...9 =10 y el número de restricciones es 1. Luego:\n",
    "\n",
    "$$gl=9$$\n",
    "Además:\n",
    "\n",
    "$$1-\\alpha = 0.95$$\n",
    "Buscando en las tablas de probabilidad acumulada de la distribución de probabilidad de $\\chi^2$, para gl=9 y $\\alpha=0.05$, se encuentra que el valor crítico para chi-cuadrado es:\n",
    "\n",
    "$$\\chi_{(1-\\alpha);gl}^2 = \\chi_{c}^2 = 16.92$$  \n",
    "\n",
    "Luego, el valor de $\\chi^2$  obtenido es menor a 16.92, el estadístico de prueba cae en la zona de aceptación, por lo que se acepta la hipótesis nula. La distribución empírica creada sigue la distribución Binomial teórica."
   ]
  },
  {
   "cell_type": "markdown",
   "metadata": {},
   "source": [
    "- A continuación, se calculará el **valor-p** de la prueba.\n",
    "\n",
    "$$p-value= 1 - P(\\chi^2 < \\chi_{0}^2) = = 1 - F(\\chi_{0}^2)$$ \n",
    "donde $\\chi^2$ la variable aleatoria estadístico chi-cuadrado y $\\chi_{0}^2$ el valor calculado, P la función probabilidad de la distribución del estadístico de prueba y F la función acumulada.\n",
    "\n",
    "Para calcular la función acumulada de la distribución de $\\chi^2$ se usa la función 'st.chi2.cdf' la cual recibe como primer argumento el valor de $\\chi_{0}^2$ y como segundo los grados de libertad\n"
   ]
  },
  {
   "cell_type": "code",
   "execution_count": 14,
   "metadata": {},
   "outputs": [],
   "source": [
    "def p_value(chi, gl):\n",
    "    acum = st.chi2.cdf(chi, gl) \n",
    "    p = 1 - acum \n",
    "    return p"
   ]
  },
  {
   "cell_type": "code",
   "execution_count": 15,
   "metadata": {},
   "outputs": [
    {
     "name": "stdout",
     "output_type": "stream",
     "text": [
      "El valor-p de la prueba es: 0.9999999988994013\n"
     ]
    }
   ],
   "source": [
    "print('El valor-p de la prueba es:', p_value(chi,9))"
   ]
  },
  {
   "cell_type": "markdown",
   "metadata": {},
   "source": [
    "Se puede ver que el valor p obtenido es mayor al nivel de significancia 0.05, lo cual no permite rechazar la hipótesis nula, coincidiendo con lo que se obtuvo en la prueba de Hipótesis."
   ]
  },
  {
   "cell_type": "markdown",
   "metadata": {},
   "source": [
    "- En el siguiente apartado se simularán muestras de 100 observaciones de una v.a. N(µ, σ), con σ=2.5 y µ que varíe entre 2 y 7.  Se estudiará cómo varía el valor p determinando si en algún rango de µ se puede “confundir” el modelo.  Se comienza definiendo una función que genere muestras de 100 variables aleatorias normales con $\\sigma=2.5$ y $\\mu$ como parámetro libre al cual se le pueda indicar cualquier valor."
   ]
  },
  {
   "cell_type": "code",
   "execution_count": 16,
   "metadata": {},
   "outputs": [],
   "source": [
    "def va_normal(n,u, sigma =2.5):\n",
    "    va = []\n",
    "    for i in range(n):      \n",
    "        x = st.norm.rvs(loc=u, scale=sigma) \n",
    "        va.append(x)       \n",
    "    return va"
   ]
  },
  {
   "cell_type": "code",
   "execution_count": 17,
   "metadata": {},
   "outputs": [],
   "source": [
    "#va_normal(100, 2)"
   ]
  },
  {
   "cell_type": "markdown",
   "metadata": {},
   "source": [
    "Como se mencionó se consideran los valores de $\\mu$ discretos entre 2 y 7. A continuación se grafican junto con la distribución teórica binomial en el mismo grafico ya que es con la que se quiere comparar. "
   ]
  },
  {
   "cell_type": "code",
   "execution_count": 18,
   "metadata": {},
   "outputs": [],
   "source": [
    "f_binomial_teo3 =  st.binom.pmf(k=np.arange(10), n=10, p=0.4)  "
   ]
  },
  {
   "cell_type": "code",
   "execution_count": 19,
   "metadata": {},
   "outputs": [],
   "source": [
    "fb3 = f_binomial_teo3 * 100"
   ]
  },
  {
   "cell_type": "code",
   "execution_count": 20,
   "metadata": {},
   "outputs": [
    {
     "data": {
      "image/png": "[encoded data removed]",
      "text/plain": [
       "<Figure size 1224x504 with 6 Axes>"
      ]
     },
     "metadata": {},
     "output_type": "display_data"
    }
   ],
   "source": [
    "frecuencias=[]\n",
    "plt.figure(figsize=(17,7))\n",
    "\n",
    "for i in [1,2,3,4,5,6]:  \n",
    "    plt.subplot(2,3,i)   \n",
    "    plt.bar(np.arange(10), fb3, width=1, color='red', alpha=0.3, label='Binomial teo.')\n",
    "    h=plt.hist(va_normal(100,i+1), bins=np.arange(0.0,10.2,1), histtype='step', ec='white', label='Normal: $\\mu$ = '+ str(i+1))\n",
    "    plt.legend(loc='best')\n",
    "    frecuencias.append(h[0]) "
   ]
  },
  {
   "cell_type": "code",
   "execution_count": 21,
   "metadata": {},
   "outputs": [
    {
     "data": {
      "text/plain": [
       "[array([16., 15., 15., 12.,  8.,  7.,  4.,  4.,  2.,  0.]),\n",
       " array([ 6., 15., 16., 10., 15., 16.,  6.,  1.,  2.,  0.]),\n",
       " array([ 5.,  5., 11., 16., 19., 15.,  9.,  5.,  3.,  2.]),\n",
       " array([ 8.,  5., 11., 10., 18., 16.,  7., 13.,  5.,  4.]),\n",
       " array([ 0.,  5.,  9., 12.,  9., 10., 13., 19.,  9.,  6.]),\n",
       " array([ 0.,  2.,  3.,  3.,  9.,  9., 16., 22., 13., 12.])]"
      ]
     },
     "execution_count": 21,
     "metadata": {},
     "output_type": "execute_result"
    }
   ],
   "source": [
    "#Notar que la lista 'frecuencias' contiene las listas de frecuencias para cada valor de u\n",
    "frecuencias"
   ]
  },
  {
   "cell_type": "markdown",
   "metadata": {},
   "source": [
    "Se calcula los $\\chi^2$ para cada $\\mu$ usando la función \"chi2(f)\" donde f es una lista con las frecuencias de la distribución a comparar, las cuales se encuentran guardadas en la lista 'frecuencias'. Se realiza para cada distribución normal aleatoria graficada.\n"
   ]
  },
  {
   "cell_type": "code",
   "execution_count": 22,
   "metadata": {},
   "outputs": [],
   "source": [
    "def chi_cuadrado2(f,teo):\n",
    "    chi2=0\n",
    "    for j in range(len(f)):\n",
    "        if teo[j] != 0:\n",
    "            chi2 = chi2 + (((f[j]-teo[j])**2)/teo[j])\n",
    "        else:\n",
    "            continue\n",
    "    return chi2"
   ]
  },
  {
   "cell_type": "code",
   "execution_count": 23,
   "metadata": {},
   "outputs": [
    {
     "data": {
      "text/plain": [
       "array([16., 15., 15., 12.,  8.,  7.,  4.,  4.,  2.,  0.])"
      ]
     },
     "execution_count": 23,
     "metadata": {},
     "output_type": "execute_result"
    }
   ],
   "source": [
    "#Frecuencias para el caso de u = 2\n",
    "frecuencias[0]"
   ]
  },
  {
   "cell_type": "code",
   "execution_count": 24,
   "metadata": {},
   "outputs": [
    {
     "name": "stdout",
     "output_type": "stream",
     "text": [
      "Para u= 2 se tiene chi2= 452.45049114337525\n",
      "Para u= 3 se tiene chi2= 96.12443271255468\n",
      "Para u= 4 se tiene chi2= 62.1169651279382\n",
      "Para u= 5 se tiene chi2= 227.83170261073454\n",
      "Para u= 6 se tiene chi2= 349.1426423830791\n",
      "Para u= 7 se tiene chi2= 1143.0536734344355\n"
     ]
    }
   ],
   "source": [
    "#Se calcula el valor de chi cuadrado para cada valor de u \n",
    "\n",
    "chis_cuadrado = []\n",
    "for k in [0,1,2,3,4,5]:\n",
    "    chis = chi_cuadrado2(frecuencias[k], fb3)\n",
    "    print('Para u=',k+2, 'se tiene chi2=', chis)\n",
    "    chis_cuadrado.append(chis)"
   ]
  },
  {
   "cell_type": "markdown",
   "metadata": {},
   "source": [
    "En este caso: gl= 10-1=9 y $\\alpha$=0.05. Luego, $\\chi_{c}^2$=16.92.\n",
    "\n",
    "Como todos los valores obtenidos son mayores al $\\chi_{c}^2$, se rechaza la hipótesis nula para todos los casos."
   ]
  },
  {
   "cell_type": "code",
   "execution_count": 25,
   "metadata": {},
   "outputs": [
    {
     "name": "stdout",
     "output_type": "stream",
     "text": [
      "Para u= 2 se tiene valor-p= 0.0\n",
      "Para u= 3 se tiene valor-p= 1.1102230246251565e-16\n",
      "Para u= 4 se tiene valor-p= 5.230361699304353e-10\n",
      "Para u= 5 se tiene valor-p= 0.0\n",
      "Para u= 6 se tiene valor-p= 0.0\n",
      "Para u= 7 se tiene valor-p= 0.0\n"
     ]
    }
   ],
   "source": [
    "for k in range(len(chis_cuadrado)):\n",
    "    p = p_value(chis_cuadrado[k],9)\n",
    "    print('Para u=',k+2, 'se tiene valor-p=', p)"
   ]
  },
  {
   "cell_type": "markdown",
   "metadata": {},
   "source": [
    "Se obtiene que todos los valores de p obtenidos son menores a 0.05 (valor de alpha), lo que significa el rechazo de la hipótesis nula. Coincidiendo éste resultado con el análisis del estimador chicuadrado. "
   ]
  },
  {
   "cell_type": "markdown",
   "metadata": {},
   "source": [
    "Luego, al comparar la distribuciones se ve que la muestra de la distribución empírica normal creada, no sigue la distribución Binomial teórica. Éste resultado no es el esperado ya se cree posible que la distribución binomial coincida con alguna distribución normal, sin embargo, no es lo que se obtiene al realizar la prueba de hipótesis y tampoco se detectó algun error en el procedimiento seguido."
   ]
  },
  {
   "cell_type": "markdown",
   "metadata": {},
   "source": [
    "- A continuación, se realizará un procedimeinto similar al anterior pero en lugar de sortear 100 randoms hay que sortear 1000."
   ]
  },
  {
   "cell_type": "code",
   "execution_count": 26,
   "metadata": {},
   "outputs": [],
   "source": [
    "f_binomial_teo4 =  st.binom.pmf(k=np.arange(10), n=10, p=0.4)  "
   ]
  },
  {
   "cell_type": "code",
   "execution_count": 27,
   "metadata": {},
   "outputs": [],
   "source": [
    "f_binomial_teo5 = f_binomial_teo4 *1000"
   ]
  },
  {
   "cell_type": "code",
   "execution_count": 31,
   "metadata": {},
   "outputs": [
    {
     "data": {
      "image/png": "[encoded data removed]",
      "text/plain": [
       "<Figure size 1224x504 with 6 Axes>"
      ]
     },
     "metadata": {},
     "output_type": "display_data"
    }
   ],
   "source": [
    "frecuencias2=[]\n",
    "plt.figure(figsize=(17,7))\n",
    "\n",
    "for i in [1,2,3,4,5,6]:  \n",
    "    plt.subplot(2,3,i)   \n",
    "    plt.bar(np.arange(10), f_binomial_teo5, width=1, color='green', alpha=0.3, label='Binomial teo.')\n",
    "    h2=plt.hist(va_normal(1000,i+1), bins=np.arange(0.0,10.2,1), histtype='step', ec='white', label='Normal: $\\mu$ = '+ str(i+1))\n",
    "    plt.legend(loc='best')\n",
    "    frecuencias2.append(h2[0]) "
   ]
  },
  {
   "cell_type": "code",
   "execution_count": 32,
   "metadata": {},
   "outputs": [
    {
     "data": {
      "text/plain": [
       "[array([144., 160., 153., 139.,  87.,  60.,  35.,   7.,  11.,   2.]),\n",
       " array([101., 125., 144., 152., 141.,  91.,  61.,  35.,  15.,   7.]),\n",
       " array([ 62., 100., 134., 150., 167., 140.,  91.,  55.,  32.,  13.]),\n",
       " array([ 32.,  48., 108., 125., 173., 155., 130., 101.,  48.,  39.]),\n",
       " array([ 12.,  30.,  48., 118., 118., 163., 162., 113., 104.,  63.]),\n",
       " array([  6.,  14.,  29.,  56., 109., 141., 148., 158., 139.,  93.])]"
      ]
     },
     "execution_count": 32,
     "metadata": {},
     "output_type": "execute_result"
    }
   ],
   "source": [
    "frecuencias2"
   ]
  },
  {
   "cell_type": "code",
   "execution_count": 33,
   "metadata": {},
   "outputs": [
    {
     "name": "stdout",
     "output_type": "stream",
     "text": [
      "Para u= 2 se tiene chi2= 3825.956647902739\n",
      "Para u= 3 se tiene chi2= 1844.6036021393047\n",
      "Para u= 4 se tiene chi2= 807.1127630566886\n",
      "Para u= 5 se tiene chi2= 1292.4334069485712\n",
      "Para u= 6 se tiene chi2= 3534.0581894361717\n",
      "Para u= 7 se tiene chi2= 7495.760918519719\n"
     ]
    }
   ],
   "source": [
    "#Se calcula el valor de chi cuadrado para cada valor de u \n",
    "\n",
    "chis_cuadrado2 = []\n",
    "for k in [0,1,2,3,4,5]:\n",
    "    chis2 = chi_cuadrado2(frecuencias2[k], f_binomial_teo5)\n",
    "    print('Para u=',k+2, 'se tiene chi2=', chis2)\n",
    "    chis_cuadrado2.append(chis2)"
   ]
  },
  {
   "cell_type": "code",
   "execution_count": 34,
   "metadata": {},
   "outputs": [
    {
     "name": "stdout",
     "output_type": "stream",
     "text": [
      "Para u= 2 se tiene valor-p= 0.0\n",
      "Para u= 3 se tiene valor-p= 0.0\n",
      "Para u= 4 se tiene valor-p= 0.0\n",
      "Para u= 5 se tiene valor-p= 0.0\n",
      "Para u= 6 se tiene valor-p= 0.0\n",
      "Para u= 7 se tiene valor-p= 0.0\n"
     ]
    }
   ],
   "source": [
    "for k in range(len(chis_cuadrado2)):\n",
    "    p = p_value(chis_cuadrado2[k],9)\n",
    "    print('Para u=',k+2, 'se tiene valor-p=', p)"
   ]
  },
  {
   "cell_type": "markdown",
   "metadata": {},
   "source": [
    "Nuevamente, se obtiene que los valores del estimador chi cuadrado encontrados son mayores al valor crítico y por lo tanto se rechaza la hipótesis nula. Luego, al analizar los valores de p, todos son menores al nivel de significancia 0.05 y re confirma el rechazo de $H_{0}$. "
   ]
  },
  {
   "cell_type": "markdown",
   "metadata": {},
   "source": [
    "No se logró identificar el por qué de las diferencias entre los resultados encontrados en los primeros análisis y en los últimos. "
   ]
  }
 ],
 "metadata": {
  "kernelspec": {
   "display_name": "Python 3",
   "language": "python",
   "name": "python3"
  },
  "language_info": {
   "codemirror_mode": {
    "name": "ipython",
    "version": 3
   },
   "file_extension": ".py",
   "mimetype": "text/x-python",
   "name": "python",
   "nbconvert_exporter": "python",
   "pygments_lexer": "ipython3",
   "version": "3.8.3"
  }
 },
 "nbformat": 4,
 "nbformat_minor": 4
}
