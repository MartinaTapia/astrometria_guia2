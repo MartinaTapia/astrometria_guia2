{
 "cells": [
  {
   "cell_type": "markdown",
   "metadata": {},
   "source": [
    "# UNIVERSIDAD NACIONAL DE CÓRDOBA#\n",
    "## Fa.M.A.F – Observatorio Astronómico ##\n",
    "### Licenciatura en Astronomía ###\n",
    "### Tapia Martina ###\n",
    "### Astrometría 2020 ###\n",
    "## Práctico N° 2##"
   ]
  },
  {
   "cell_type": "markdown",
   "metadata": {},
   "source": [
    "## Actividad 4 ##\n",
    "### Introducción  ###\n",
    "\n",
    "Todos los métodos usados hasta aquí usan, de una u otra manera, una distribución normal para los datos. Sin embargo, nunca los datos están distribuidos exactamente de acuerdo con una normal. El procedimiento t es útil en la práctica porque es robusto, es decir, es bastante insensible a desviaciones respecto de la distribución normal por parte de los datos. Aún asi, no se pueden usar los intervalos de confianza (IC) construidos con t si los datos distribuidos tienen un alto valor de skewness (distribuciones con colas), a menos que las muestran sean muy grandes. El método(y varios más)que se describirá a continuación tiene la ventaja de que no necesitan de datos distribuidos normalmente o muestras muy grandes. Además, practicamente carece de fórmulas y funciona de la misma manera para muchas diferentes estadísticas. También permite, con la suficiente potencia computacional,obtener resultados que muchas veces son más exactos que aquellos obtenidos por métodos tradicionales. Es más, los intervalos que se obtienen con las técnicas de remuestreo, son conceptualmente mas simples que los IC y las pruebas basadas en distribuciones normales, debido a que están directamente relacionados con la base del proceso inferencial: las distribuciones muestrales ”muestran” qué debería pasar si se tomaran muchas muestras bajo las mismas condiciones.\n",
    "\n",
    "El **objetivo** de ésta actividad es diseñar, impementar y verificar una función, que estime la varianza de una variable aleatoria (V.A) a partir de una muestra de datos. La muestra utilizada es de magnitudes de cúmulos globulares. Luego, se quiere implementar una función que utilize el Método de boostrap resampling para calcular los intervalos de confianza del estimador de la varianza con un nivel de significancia dado α. \n",
    "\n"
   ]
  },
  {
   "cell_type": "markdown",
   "metadata": {},
   "source": [
    "### Método de Bootstrap ###\n",
    "\n",
    "La inferencia estadística se basa en las distribuciones muestrales de una muestra de estadísticos. El método **bootstrap** es, en primer lugar, una manera de encontrar la distribución muestral, al menos aproximadamente, sólo a partir de una muestra. Este es el procedimiento a seguir:\n",
    "- Remuestreo: Una distribución muestral esta basada en muchas muestras extraídas a partir de una población. Si se tiene una sola muestra aleatoria, se realizan muchos remuestreos, repitiendo el muestreo con repeticiones a partir de la única muestra aleatoria que disponemos. Cada remuestreo debe tener el mismo tamaño que la muestra aleatoria original.\n",
    "- Distribución **bootstrap**: La distribución muestral de un estadístico colecciona los valores de dicho estadístico proveniente de muchas muestras. La distribución **bootstrap** nos da información acerca de la distribución muestral.\n",
    "\n",
    "Por lo tanto la idea del **bootstrap** se puede describir de la siguiente manera: La muestra original representa la población a partir de la cuál fue extraída. Por lo que los remuestreos a partir de dicha muestra, representan que se obtendría si tomaramos\n",
    "muchas muestras extraídas de la población. La distribución **bootstrap** de un estadístico, basada en muchos remuestreos, representa la distribución muestral de dicho estadístico, basado en muchas muestras.\n",
    "\n",
    "### Intervalos de Confianza (IC)###\n",
    "\n",
    "Aunque un estimador como la media muestral sea insesgado, consistente y eficiente, lo más probable es que, aún en muestras grandes, el valor del estimador no coincida con el valor del parámetro. Por lo tanto se utiliza otro procedimiento más seguro\n",
    "para inferir el valor del parámetro, como es la estimación por intervalo. Con este método se construye un intervalo a partir del valor de un estimador puntual, mediante la definición de dos límites: uno superior (LS) y otro inferior (LI). Se supone que el intervalo contiene el parámetro poblacional con cierta probabilidad.\n",
    "La deducción de un intervalo de confianza para la media poblacional depende de varios aspectos que combinados de cierta manera conforman una situación particular que determina la forma del intervalo. Los aspectos a considerar en la construcción de un\n",
    "intervalo de confianza son:\n",
    "- Tipo de distribución de la variable estudiada,\n",
    "- Conocimiento de la varianza poblacional, y\n",
    "- Tamaño de la muestra."
   ]
  },
  {
   "cell_type": "code",
   "execution_count": 1,
   "metadata": {},
   "outputs": [],
   "source": [
    "#Primero se importan las librerías necesarias para trabajar\n",
    "import numpy as np\n",
    "import matplotlib.pyplot as plt\n",
    "import random\n",
    "import math\n",
    "import seaborn as sns          \n",
    "sns.set()         \n",
    "from scipy.stats import poisson\n",
    "import statistics"
   ]
  },
  {
   "cell_type": "code",
   "execution_count": 2,
   "metadata": {},
   "outputs": [],
   "source": [
    "#Se importan los datos a utilizar\n",
    "data = np.genfromtxt('cumulos_globulares.dat', usecols=6)\n",
    "data = data[~np.isnan(data)]"
   ]
  },
  {
   "cell_type": "code",
   "execution_count": 3,
   "metadata": {},
   "outputs": [
    {
     "data": {
      "text/plain": [
       "2.2251897407611687"
      ]
     },
     "execution_count": 3,
     "metadata": {},
     "output_type": "execute_result"
    }
   ],
   "source": [
    "#Lo primero que se calculará es la varianza de la muestra total\n",
    "\n",
    "n1 =len(data)\n",
    "xm1 = sum(data)/n1                               #Se calcula el promedio\n",
    "vT = sum((data - xm1)**2 / (n1 - 1))             \n",
    "vT                                               #Varianza de la muestra inicial"
   ]
  },
  {
   "cell_type": "code",
   "execution_count": 7,
   "metadata": {},
   "outputs": [],
   "source": [
    "# Se define el tamaño de la muestra total como n\n",
    "n = len(data)\n",
    "def Boot(n = len(data), N = 100):            #Se define una función que remuestree aplicando Boostrap     \n",
    "    lvar = []                                # Lista vacía donde se guardaran los estimadores \n",
    "    for i in range(N):\n",
    "        mue = np.random.choice(data, size = n)       #Remuestreo de tamaño n\n",
    "        xm = sum(mue)/n                              #Promedios\n",
    "        s2 = sum((mue - xm)**2 / (n - 1))            #Varianzas\n",
    "        lvar.append(s2)\n",
    "    return(lvar)"
   ]
  },
  {
   "cell_type": "code",
   "execution_count": 8,
   "metadata": {},
   "outputs": [],
   "source": [
    "#Se hace una lista con los estimadores calculados \n",
    "varianzas = Boot()"
   ]
  },
  {
   "cell_type": "code",
   "execution_count": 16,
   "metadata": {},
   "outputs": [
    {
     "data": {
      "image/png": "[encoded data removed]",
      "text/plain": [
       "<Figure size 432x288 with 1 Axes>"
      ]
     },
     "metadata": {},
     "output_type": "display_data"
    }
   ],
   "source": [
    "#Se grafica la distribución de los estimadores \n",
    "\n",
    "plt.title('Distribución de estimadores de $S^2$ obtenidos con el Método Boostrap')\n",
    "plt.hist(varianzas)\n",
    "plt.ylabel('Frecuencias')\n",
    "plt.xlabel('$S^2$')\n",
    "plt.show()"
   ]
  },
  {
   "cell_type": "markdown",
   "metadata": {},
   "source": [
    "A continuación se quiere encontrar el intervalo de confianza IC de los estimadores de varianza con un nivel de significancia $\t\\alpha$"
   ]
  },
  {
   "cell_type": "code",
   "execution_count": 10,
   "metadata": {},
   "outputs": [],
   "source": [
    "#Se usa la función sort para ordenar los valores de la lista de menor a mayor.\n",
    "varianzas.sort()"
   ]
  },
  {
   "cell_type": "code",
   "execution_count": 11,
   "metadata": {},
   "outputs": [],
   "source": [
    "#Se define una función que encuentre el valor del extremo inferior (q1) del IC.\n",
    "#Se elije alpha como 0.90\n",
    "\n",
    "def calq(alp = 0.90, nv= len(varianzas)):\n",
    "    s = 0\n",
    "    alp2 = (1 - alp)/2\n",
    "    for j in range(nv):\n",
    "        x = varianzas[j]\n",
    "        s = s + x \n",
    "        s2 = s / nv\n",
    "        \n",
    "        if s2 <= alp2:\n",
    "            None \n",
    "        else:\n",
    "            q1 = x\n",
    "            break\n",
    "    return(q1)        \n",
    "        \n",
    "        "
   ]
  },
  {
   "cell_type": "code",
   "execution_count": 12,
   "metadata": {},
   "outputs": [
    {
     "data": {
      "text/plain": [
       "1.5882036909358346"
      ]
     },
     "execution_count": 12,
     "metadata": {},
     "output_type": "execute_result"
    }
   ],
   "source": [
    "#Se ejecutá la función, y se determina el valor q1\n",
    "q1 = calq()\n",
    "q1"
   ]
  },
  {
   "cell_type": "code",
   "execution_count": 13,
   "metadata": {},
   "outputs": [],
   "source": [
    "#Se ordenan los valores de la lista de estimadores de mayor a menor usando reverse =True\n",
    "\n",
    "varianzas.sort(reverse=True)"
   ]
  },
  {
   "cell_type": "code",
   "execution_count": 14,
   "metadata": {},
   "outputs": [
    {
     "data": {
      "text/plain": [
       "3.1125326116933274"
      ]
     },
     "execution_count": 14,
     "metadata": {},
     "output_type": "execute_result"
    }
   ],
   "source": [
    "#Se ejecuta nuevamente la función\n",
    "q2 = calq()\n",
    "q2"
   ]
  },
  {
   "cell_type": "code",
   "execution_count": 15,
   "metadata": {},
   "outputs": [
    {
     "data": {
      "text/plain": [
       "(1.5882036909358346, 3.1125326116933274)"
      ]
     },
     "execution_count": 15,
     "metadata": {},
     "output_type": "execute_result"
    }
   ],
   "source": [
    "# Luego, se define el intervalo de confianza IC como\n",
    "IC = (q1, q2)\n",
    "IC"
   ]
  },
  {
   "cell_type": "markdown",
   "metadata": {},
   "source": [
    "Finalemnte, el objetivo de ésta actividad pudo llevarse a cabo. Se diseñó una función que estima la varianza de una variable aleatoria a partir de una muestra de datos. Luego, se pudo implementar exitosamente una función que utiliza el Método de boostrap resampling para calcular los intervalos de confianza del estimador de la varianza con un nivel de significancia dado α. \n",
    "\n",
    "Se pudo verificar la gran ventaja del método **bootstrap** ya que es una forma sencilla de derivar estimaciones de errores estándar e intervalos de confianza para estimadores de parámetros complejos de la distribución, si bien  en esta actividad se lo aplicó a la varianza, se puede aplicar a cualquier otro párámetro; como puntos percentiles, proporciones, razón de posibilidades y coeficientes de correlación. **Bootstrap** es una forma apropiada de controlar y verificar la estabilidad de los resultados. Aunque para la mayoría de los problemas es imposible conocer el intervalo de confianza verdadero, el bootstrap es asintóticamente más preciso que los intervalos estándar obtenidos utilizando la varianza muestral y supuestos de normalidad. Además, se pudo ver que  es un método conveniente porque evita el costo de repetir el experimento para obtener otros grupos de datos de muestra."
   ]
  }
 ],
 "metadata": {
  "kernelspec": {
   "display_name": "Python 3",
   "language": "python",
   "name": "python3"
  },
  "language_info": {
   "codemirror_mode": {
    "name": "ipython",
    "version": 3
   },
   "file_extension": ".py",
   "mimetype": "text/x-python",
   "name": "python",
   "nbconvert_exporter": "python",
   "pygments_lexer": "ipython3",
   "version": "3.8.3"
  }
 },
 "nbformat": 4,
 "nbformat_minor": 4
}
