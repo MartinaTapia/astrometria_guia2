{
 "cells": [
  {
   "cell_type": "markdown",
   "metadata": {},
   "source": [
    "# UNIVERSIDAD NACIONAL DE CÓRDOBA#\n",
    "## Fa.M.A.F – Observatorio Astronómico ##\n",
    "### Licenciatura en Astronomía ###\n",
    "### Tapia Martina ###\n",
    "### Astrometría 2020 ###\n",
    "## Práctico N° 2##"
   ]
  },
  {
   "cell_type": "markdown",
   "metadata": {},
   "source": [
    "## Actividad 1 ##\n",
    "### Método de la transformada inversa: distribución de Poisson ###\n",
    "En ésta actividad, se quiere simular la ocurrencia de eventos en un proceso de Poisson de tasa λ = 5/h, hasta un tiempo T=3 h. Para ello, se tiene en cuenta que los tiempos entre eventos siguen una distribución exponencial, además se utilizará el método de la función inversa para generar los valores de los saltos."
   ]
  },
  {
   "cell_type": "markdown",
   "metadata": {},
   "source": [
    "### Conceptos base y procedimiento seguido ###"
   ]
  },
  {
   "cell_type": "markdown",
   "metadata": {},
   "source": [
    "#### Distribución de Poisson ####\n",
    "Esta distribución fue introducida por el matemático francés S.D. Poisson en 1837. El modelo de Poisson, a semejanza del binomial, consta de varios ensayos de Bernoulli. La diferencia estriba en que el modelo binomial sirve para calcular la probabilidad de ocurrencia de un resultado particular en un número finito de repeticiones, mientras que con el modelo de Poisson se determina la probabilidad de ocurrencia de un determinado evento en el tiempo o el espacio y no en un número definido de repeticiones del experimento. En estos eventos que se producen aleatoriamente en el espacio o el tiempo, la\n",
    "frecuencia de ocurrencia de un evento es tan baja con relación a la frecuencia de no ocurrencia que se consideran como sucesos raros. Tratar de describir la distribución de una variable aleatoria de este tipo mediante el modelo binomial sería impráctico puesto que el número de ensayos tendría que ser extraordinariamente grande para que ocurriera el resultado esperado. \n",
    "\n",
    "Luego, la función de probabildades para el modelo de Poisson queda: \n",
    "\n",
    "$$ p(x) = (e^{−λ} * λ^k)/ k!  $$ \n",
    "\n",
    "con λ el número promedio de ocurrencias en un espacio o tiempo dado y k el número de veces que ocurre el éxito en ese mismo espacio o tiempo.\n",
    "\n",
    "#### Proceso de Poisson ####\n",
    "Los procesos de Poisson se pueden ver en todos los ámbitos de la vida. Algunos ejemplos son; el número de hamburguesas vendidas por Burguer King de 12:00 a 16:00 los domingos, fallos de las máquinas de ultrasonido en un hospital, la cantidad de vehículos que pasan por alguna intersección de 8 a.m. a 11 a.m. de lunes a viernes, número de pulsos eléctricos generados por un fotodetector que se expone a un haz de fotones, en 1 minuto, entre otros cientos de ejemplos que se tienen presentes diariamente.  \n",
    "El proceso de Poisson tiene las siguientes propiedades:\n",
    "- Se compone de una secuencia de variables aleatorias X1, X2, X3,… Xk de manera que cada variable representa el número de ocurrencias de algún evento, como pacientes que ingresan a una sala de emergencias, durante algún intervalo de tiempo.\n",
    "- Es un proceso estocástico . Cada vez que ejecute el proceso de Poisson, producirá una secuencia diferente de resultados aleatorios según alguna distribución de probabilidad que veremos pronto.\n",
    "- Es un proceso discreto . Los resultados del proceso de Poisson son el número de ocurrencias de algún evento en el período de tiempo especificado, que sin duda es un número entero, es decir, un número discreto.\n",
    "- Tiene incrementos independientes . Lo que esto significa es que el número de eventos que el proceso predice que ocurrirán en cualquier intervalo dado, es independiente del número en cualquier otro intervalo disjunto. \n",
    "- Las variables constituyentes del proceso de Poisson X1, X2, X3,… Xk tienen todas una distribución idéntica .\n",
    "- Las variables constitutivas del proceso de Poisson X1, X2, X3,… Xk tienen todas una distribución de Poisson , que viene dada por la Función de Probabilidad (PMF)\n",
    "\n",
    "Por otra parte, es importante notar que la probabilidad alcanza su punto máximo en el valor correspondiente de λ y disminuye gradualmente en ambos lados de este valor. También, la suma de probabilidades para todos los valores posibles de k es siempre 1.0, es decir, es seguro que uno de los resultados se materializará.\n",
    "\n",
    "Para conocer la probabilidad de que k pacientes ingresen a la sala de emergencias en t horas , se modela como un proceso de Poisson con una tasa ( λ t). La fórmula correspondiente para el PMF para k ocurrencias en el tiempo t se ve así:\n",
    "\n",
    "\n",
    "$$ p(x) = (e^{−λt} * (λt)^k)/ k!  $$ \n",
    "\n",
    "#### Modelado de tiempos entre llegadas ####\n",
    "El proceso de Poisson tiene una subestructura notable. Aunque el número de ocurrencia de eventos se modela usando una distribución de Poisson discreta, el intervalo de tiempo entre eventos consecutivos se puede modelar usando la distribución exponencial, que es una distribución continua. Es decir que; si se deja que X1, X2, X3, ... etc . ser variables aleatorias tales que:\n",
    "X1 = el intervalo de tiempo entre el inicio del proceso y el primer evento, es decir, la primera llegada,\n",
    "X2 = el tiempo entre llegadas entre la primera y la segunda llegada,\n",
    "X3 = el tiempo entre llegadas entre la segunda y la tercera llegada, y así sucesivamente.\n",
    "Entonces, la distribución de la variable aleatoria Xk que representa el tiempo entre llegadas entre la (k-1) ésima y (k) ésima llegada es:\n",
    " \n",
    "$$ X_{k} = Exponencial(λ) $$\n",
    "\n",
    "Luego, la Función Densidad de Probabilidad (PDF) de la variable aleatoria Xk es el siguiente:\n",
    "\n",
    "$$ P_{x}(t) = λ * e^{−λt} $$\n",
    "\n",
    "Además, recordando que la Función de distribución Acumulada (CDF) de X devuelve la probabilidad de que el intervalo de tiempo entre llegadas consecutivas sea menor o igual a algún valor t se tiene que:  \n",
    "\n",
    "$$ F_{x}(t) = 1 - e^{−λt} $$\n",
    "\n",
    "#### Simulación de tiempos entre llegadas en un proceso de Poisson ####\n",
    "Con lo mencionado, es suficiente información para generar tiempos entre llegadas en un proceso de Poisson. Se hace esto usando el método de la transformada inversa, en el que literalmente se construye la función inversa de la CDF, y se alimenta con diferentes valores de probabilidad de una distribución Uniforme (0,1). Esto da los tiempos entre llegadas correspondientes para las respectivas probabilidades. Luego, la función inversa de la CDF de los tiempos entre llegadas es:\n",
    "\n",
    "$$ F_{x}^{-1}(t) = -(ln(1 -t))/λ $$\n",
    "\n",
    "Una vez generados los tiempos entre llegadas, se deben modelar los mismos para generar los tiempos de llegada. \n",
    "Luego, si lo que quiere modelar es el número llegadas de pacientes a la sala de emergencias de un hospital (ejemplo), durante un cierto período de tiempo, 3 horas, y se asume que se conoce la ocurrencia promedio de esos eventos durante un período de tiempo ( λ = 5) entonces, del cálculo con la CDF de obtuvieron los x y se ve que; \n",
    "- la hora de llegada del primer paciente = x1 \n",
    "- Hora de llegada del segundo paciente = x1 + tiempo entre llegadas entre el primer y el segundo paciente = x1 + x2\n",
    "- Hora de llegada del tercer paciente = x1 + x2 + x3 … y así sucesivamente. \n",
    "\n",
    "Entonces, teniendo en cuenta que X1, X2, X3,… Xk son los tiempos entre llegadas, si se define T1, T2, T3,… Tk como las variables que representarán los tiempos de llegada del paciente, se ve que:\n",
    "T1 = X1\n",
    "T2 = X1 + X2\n",
    "T3 = X1 + X2 + X3\n",
    "…\n",
    "Tk = X1 + X2 + X3 +… + Xk\n",
    "Observar que dado que T1, T2, T3… Tk se definen como combinaciones lineales de variables aleatorias X1, X2, X3,… Xk , las variables T1, T2, T3,… Tk también son variables aleatorias. Además, dado que T1, T2, T3… Tk son cada uno la suma de variables aleatorias distribuidas exponencialmente X1, X2, X3,… Xk , las variables aleatorias T1, T2, T3,…, Tk siguen la distribución Gamma. \n",
    "\n",
    "Finalmente, lo que se realizará a continuación será: \n",
    "- Se generarán tiempos entre eventos consecutivos en un proceso de Poisson simulado.\n",
    "- Se generarán tiempos absolutos de eventos consecutivos en un proceso de Poisson simulado.\n",
    "- Se calculará el número de eventos que ocurren en intervalos consecutivos en un proceso de Poisson simulado.\n",
    "\n"
   ]
  },
  {
   "cell_type": "code",
   "execution_count": 1,
   "metadata": {},
   "outputs": [],
   "source": [
    "#Primero se importan las librerias necesarias, tanto para graficar como para calcular\n",
    "import numpy as np\n",
    "import matplotlib.pyplot as plt\n",
    "import random\n",
    "import math\n",
    "import seaborn as sns          \n",
    "sns.set()          "
   ]
  },
  {
   "cell_type": "code",
   "execution_count": 2,
   "metadata": {},
   "outputs": [],
   "source": [
    "#Se define un experimento que simule la ocurrencia de eventos en un proceso de Poisson.\n",
    "#lam representa lamda de la distribución de Poisson\n",
    "#n es la cantidad de numeros random que calculará la función\n",
    "\n",
    "def experimento(lam = 5, n =100):\n",
    "    t = 0                                      #Se inicializan las variables de la función\n",
    "    x = 0                                       \n",
    "    eventos = []                               #Se definen las listas donde se guardaran los resultados\n",
    "    tel = []                                   # Se guardar los tiempos entre llegadas\n",
    "    Nev = []\n",
    "\n",
    "    for i in range(n):                        #Se usa un for para poder realizar el proceso n veces\n",
    "        n = random.random()                   # Se generan n números random \n",
    "        x = -math.log(1.0 - n) / lam          # Se genera el tiempo entre eventos a partir de la CDF de la distri. exponencial \n",
    "        tel.append(x)                         # utilizando la técnica CDF inversa\n",
    "        t = t + x                             # Se agrega el tiempo entre eventos a la suma acumulada para \n",
    "                                              # obtener el siguiente tiempo absoluto del evento\n",
    "        if t <= 3:                            #Se aplica la condición dada como límite temporal y se guardan los resultados     \n",
    "            Nev.append(t)\n",
    "            eventos.append(i)\n",
    "        else:\n",
    "             break\n",
    "\n",
    "    return(eventos, tel, Nev)\n",
    "    "
   ]
  },
  {
   "cell_type": "code",
   "execution_count": 3,
   "metadata": {},
   "outputs": [],
   "source": [
    "# Ahora, se realizan varios experimentos para poder analizar la distribución de la cantidad de eventos \n",
    "# Se define N como la cantidad de eventos de un experimento \n",
    "# Se crea una lista vacía para guardar los N de cada experimento \n",
    "\n",
    "lista_N = []\n",
    "for j in range(10000):\n",
    "    x, y, z = experimento()\n",
    "    N = len(z)\n",
    "    lista_N.append(N)\n",
    "    \n",
    "#En principio, fue útil visualizar los valores de la lista creada, y verificar lo realizado\n",
    "#print(lista_N)\n",
    "    "
   ]
  },
  {
   "cell_type": "code",
   "execution_count": 5,
   "metadata": {},
   "outputs": [
    {
     "data": {
      "image/png": "[encoded data removed]",
      "text/plain": [
       "<Figure size 600x400 with 1 Axes>"
      ]
     },
     "metadata": {},
     "output_type": "display_data"
    }
   ],
   "source": [
    "#Finalmente, se grafica la distribución de N encontrada\n",
    "\n",
    "plt.figure(dpi=100)\n",
    "plt.title('Distribución de Poisson para $\\lambda$ = 5/h')\n",
    "plt.hist(lista_N, bins=28, color = 'greenyellow')\n",
    "plt.xlabel('N')\n",
    "plt.ylabel('Probabilidad')\n",
    "plt.show()\n"
   ]
  },
  {
   "cell_type": "markdown",
   "metadata": {},
   "source": [
    "Se puede notar que la distribución encontrada alcanza su punto máximo en el valor de N que corresponde a lamda por el límite de t, es decir $\\lambda = 5/h * 3h = 15$ lo cuál es correcto. Además se puede notar que la distribución disminuye gradualmente en amboslados de este valor. Finalemnte, se logró determinar el número de eventos en un intervalo de tiempo, al ocurrir estos a una tasa de tiempo constante. Es decis, se obtuvo la distribución de Poisson, como se deseaba. "
   ]
  },
  {
   "cell_type": "code",
   "execution_count": null,
   "metadata": {},
   "outputs": [],
   "source": []
  }
 ],
 "metadata": {
  "kernelspec": {
   "display_name": "Python 3",
   "language": "python",
   "name": "python3"
  },
  "language_info": {
   "codemirror_mode": {
    "name": "ipython",
    "version": 3
   },
   "file_extension": ".py",
   "mimetype": "text/x-python",
   "name": "python",
   "nbconvert_exporter": "python",
   "pygments_lexer": "ipython3",
   "version": "3.8.3"
  }
 },
 "nbformat": 4,
 "nbformat_minor": 4
}
